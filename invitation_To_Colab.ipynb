{
  "cells": [
    {
      "cell_type": "markdown",
      "metadata": {
        "id": "view-in-github",
        "colab_type": "text"
      },
      "source": [
        "<a href=\"https://colab.research.google.com/github/SANJ-180605/projects/blob/main/invitation_To_Colab.ipynb\" target=\"_parent\"><img src=\"https://colab.research.google.com/assets/colab-badge.svg\" alt=\"Open In Colab\"/></a>"
      ]
    },
    {
      "cell_type": "code",
      "source": [
        "def main():\n",
        "  names=[\"Sanju\",\"bhavu\",\"chandu\"]\n",
        "  for name in names:\n",
        "    print(write_letter(name,\"Basavachary\"))\n",
        "\n",
        "def write_letter(reciever,sender):\n",
        "  return f\"\"\"\n",
        "  ------------------------------\n",
        "  dear {reciever},\n",
        "\n",
        "  you are cordially invited to a ball in this evening at 7pm\n",
        "\n",
        "  sincerely,\n",
        "  {sender}\n",
        "  ------------------------------\n",
        "  \"\"\"\n",
        "\n",
        "main()"
      ],
      "metadata": {
        "colab": {
          "base_uri": "https://localhost:8080/"
        },
        "id": "jL-v5t37tFc0",
        "outputId": "11c48da9-3a13-4e91-c44a-899a74c9001c"
      },
      "execution_count": 14,
      "outputs": [
        {
          "output_type": "stream",
          "name": "stdout",
          "text": [
            "\n",
            "  ------------------------------\n",
            "  dear Sanju,\n",
            "\n",
            "  you are cordially invited to a ball in this evening at 7pm\n",
            "\n",
            "  sincerely,\n",
            "  Basavachary\n",
            "  ------------------------------\n",
            "  \n",
            "\n",
            "  ------------------------------\n",
            "  dear bhavu,\n",
            "\n",
            "  you are cordially invited to a ball in this evening at 7pm\n",
            "\n",
            "  sincerely,\n",
            "  Basavachary\n",
            "  ------------------------------\n",
            "  \n",
            "\n",
            "  ------------------------------\n",
            "  dear chandu,\n",
            "\n",
            "  you are cordially invited to a ball in this evening at 7pm\n",
            "\n",
            "  sincerely,\n",
            "  Basavachary\n",
            "  ------------------------------\n",
            "  \n"
          ]
        }
      ]
    },
    {
      "cell_type": "code",
      "source": [],
      "metadata": {
        "id": "PDzFGTAdtHPY"
      },
      "execution_count": null,
      "outputs": []
    }
  ],
  "metadata": {
    "colab": {
      "name": "Welcome To Colab",
      "provenance": [],
      "include_colab_link": true
    },
    "kernelspec": {
      "display_name": "Python 3",
      "name": "python3"
    }
  },
  "nbformat": 4,
  "nbformat_minor": 0
}